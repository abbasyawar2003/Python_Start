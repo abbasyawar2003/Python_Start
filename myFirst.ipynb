{
  "cells": [
    {
      "cell_type": "markdown",
      "metadata": {
        "id": "view-in-github",
        "colab_type": "text"
      },
      "source": [
        "<a href=\"https://colab.research.google.com/github/abbasyawar2003/Python_Start/blob/main/myFirst.ipynb\" target=\"_parent\"><img src=\"https://colab.research.google.com/assets/colab-badge.svg\" alt=\"Open In Colab\"/></a>"
      ]
    },
    {
      "cell_type": "code",
      "source": [
        "from google.colab import drive\n",
        "drive.mount(\"/content/gdrive\")\n",
        "\n",
        "%autosave 900"
      ],
      "metadata": {
        "colab": {
          "base_uri": "https://localhost:8080/",
          "height": 52
        },
        "id": "_BZxofVBxi1f",
        "outputId": "177f6b04-bda2-4d41-ad2f-15d7efa467fc"
      },
      "execution_count": 8,
      "outputs": [
        {
          "output_type": "stream",
          "name": "stdout",
          "text": [
            "Drive already mounted at /content/gdrive; to attempt to forcibly remount, call drive.mount(\"/content/gdrive\", force_remount=True).\n"
          ]
        },
        {
          "output_type": "display_data",
          "data": {
            "application/javascript": [
              "IPython.notebook.set_autosave_interval(900000)"
            ]
          },
          "metadata": {}
        },
        {
          "output_type": "stream",
          "name": "stdout",
          "text": [
            "Autosaving every 900 seconds\n"
          ]
        }
      ]
    },
    {
      "cell_type": "code",
      "source": [
        "#from google.colab import files\n",
        "#uploaded=files.upload()\n",
        "!ls\n",
        "!mv config /root/.ssh"
      ],
      "metadata": {
        "colab": {
          "base_uri": "https://localhost:8080/"
        },
        "id": "Ndln-1BEm8n8",
        "outputId": "ce6bc860-d948-485b-a856-4b0abef8855d"
      },
      "execution_count": 29,
      "outputs": [
        {
          "output_type": "stream",
          "name": "stdout",
          "text": [
            "config\tfirst.py  myFirst.ipynb\n"
          ]
        }
      ]
    },
    {
      "cell_type": "code",
      "source": [
        "!chmod -R 640 /root/.ssh/known_hosts"
      ],
      "metadata": {
        "id": "eEd4W2ojnZ7A"
      },
      "execution_count": 31,
      "outputs": []
    },
    {
      "cell_type": "code",
      "source": [
        "!ssh-agent /bin/bash"
      ],
      "metadata": {
        "id": "tv_G7XEQpoVm"
      },
      "execution_count": null,
      "outputs": []
    },
    {
      "cell_type": "code",
      "source": [
        "!git config --global user.name \"abbasyawar2003\"\n",
        "!git config --global user.email \"abbasyawar2003@gmail.com\" "
      ],
      "metadata": {
        "id": "Hd1_E4VVdEm1"
      },
      "execution_count": 34,
      "outputs": []
    },
    {
      "cell_type": "code",
      "source": [
        "cd /content/gdrive/MyDrive/Study/Python_Start/"
      ],
      "metadata": {
        "id": "0umiifxjeSUG"
      },
      "execution_count": null,
      "outputs": []
    },
    {
      "cell_type": "code",
      "source": [
        "!git push"
      ],
      "metadata": {
        "id": "NXxHUi6IeeoA",
        "outputId": "df96aa95-0343-481c-f43a-72d2744a2b27",
        "colab": {
          "base_uri": "https://localhost:8080/"
        }
      },
      "execution_count": 39,
      "outputs": [
        {
          "output_type": "stream",
          "name": "stdout",
          "text": [
            "Warning: Permanently added the ECDSA host key for IP address '140.82.113.3' to the list of known hosts.\r\n",
            "To github.com:abbasyawar2003/Python_Start.git\n",
            " ! [rejected]        main -> main (non-fast-forward)\n",
            "error: failed to push some refs to 'git@github.com:abbasyawar2003/Python_Start.git'\n",
            "hint: Updates were rejected because the tip of your current branch is behind\n",
            "hint: its remote counterpart. Integrate the remote changes (e.g.\n",
            "hint: 'git pull ...') before pushing again.\n",
            "hint: See the 'Note about fast-forwards' in 'git push --help' for details.\n"
          ]
        }
      ]
    },
    {
      "cell_type": "code",
      "source": [
        "!ssh-agent /bin/bash"
      ],
      "metadata": {
        "colab": {
          "base_uri": "https://localhost:8080/"
        },
        "id": "RP-8SUjZrid0",
        "outputId": "fcaccee6-4c16-4a05-d6ab-77f296770e79"
      },
      "execution_count": 32,
      "outputs": [
        {
          "output_type": "stream",
          "name": "stdout",
          "text": [
            "bash: cannot set terminal process group (60): Inappropriate ioctl for device\n",
            "bash: no job control in this shell\n",
            "\u001b[01;34m/content/gdrive/MyDrive/Study/Python_Start\u001b[00m# ssh-add /root/.ssh/ssh_keygen\n",
            "Identity added: /root/.ssh/ssh_keygen (/root/.ssh/ssh_keygen)\n",
            "\u001b[01;34m/content/gdrive/MyDrive/Study/Python_Start\u001b[00m# ssh-add -l\n",
            "2048 SHA256:zGJAEyX7fRiCWJlOEAX4oDozxl05B8x/QxRz4LSTQls /root/.ssh/ssh_keygen (RSA)\n",
            "\u001b[01;34m/content/gdrive/MyDrive/Study/Python_Start\u001b[00m# exit\n",
            "exit\n"
          ]
        }
      ]
    },
    {
      "cell_type": "code",
      "source": [
        "##cd gdrive/MyDrive/Study/Python_Start/\n",
        "%ls"
      ],
      "metadata": {
        "colab": {
          "base_uri": "https://localhost:8080/"
        },
        "id": "OR9GjImN_2tU",
        "outputId": "0d3de2e7-ea46-402f-a8fa-6029549ead6b"
      },
      "execution_count": null,
      "outputs": [
        {
          "output_type": "stream",
          "name": "stdout",
          "text": [
            "\u001b[0m\u001b[01;34msample_data\u001b[0m/\n"
          ]
        }
      ]
    }
  ],
  "metadata": {
    "kernelspec": {
      "display_name": "Python 3",
      "language": "python",
      "name": "python3"
    },
    "language_info": {
      "codemirror_mode": {
        "name": "ipython",
        "version": 3
      },
      "file_extension": ".py",
      "mimetype": "text/x-python",
      "name": "python",
      "nbconvert_exporter": "python",
      "pygments_lexer": "ipython3",
      "version": "3.7.6"
    },
    "colab": {
      "name": "myFirst.ipynb",
      "provenance": [],
      "include_colab_link": true
    }
  },
  "nbformat": 4,
  "nbformat_minor": 0
}